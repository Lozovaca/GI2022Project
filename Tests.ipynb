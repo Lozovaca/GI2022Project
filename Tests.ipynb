{
 "cells": [
  {
   "cell_type": "code",
   "execution_count": 1,
   "metadata": {},
   "outputs": [
    {
     "name": "stdout",
     "output_type": "stream",
     "text": [
      "Requirement already satisfied: biopython in c:\\users\\sandra\\anaconda3\\lib\\site-packages (1.79)\n",
      "Requirement already satisfied: numpy in c:\\users\\sandra\\anaconda3\\lib\\site-packages (from biopython) (1.20.1)\n",
      "Note: you may need to restart the kernel to use updated packages.\n"
     ]
    }
   ],
   "source": [
    "pip install biopython"
   ]
  },
  {
   "cell_type": "code",
   "execution_count": 3,
   "metadata": {},
   "outputs": [],
   "source": [
    "import GlobalAlignment as globalAlign\n",
    "import Burrows0Wheeler as bwt\n",
    "import MatricesCombinations as comb\n",
    "from SeedExtend import seed_extend, readFASTA, readFASTQ"
   ]
  },
  {
   "cell_type": "markdown",
   "metadata": {},
   "source": [
    "# **1) Burrows-Wheeler transformation and FM index** #"
   ]
  },
  {
   "cell_type": "code",
   "execution_count": 3,
   "metadata": {},
   "outputs": [
    {
     "name": "stdout",
     "output_type": "stream",
     "text": [
      "C-matrix:\n",
      "{'$': 0, 'A': 1, 'B': 4, 'N': 5}\n",
      "Occ-matrix:\n",
      "{'$': [0, 0, 0, 0, 1, 1, 1], 'A': [1, 1, 1, 1, 1, 2, 3], 'B': [0, 0, 0, 1, 1, 1, 1], 'N': [0, 1, 2, 2, 2, 2, 2]}\n"
     ]
    }
   ],
   "source": [
    "t='BANANA$'\n",
    "p='ANA'\n",
    "suffix_arr = list(bwt.suffixArray(t))  \n",
    "#print(bwtViaSa(t))\n",
    "#print(suffix_arr)\n",
    "print('C-matrix:')\n",
    "c=bwt.c_matrix_insert(t)\n",
    "print(c)  \n",
    "print('Occ-matrix:')\n",
    "occ=bwt.occ_matrix_insert(t)\n",
    "print(occ)"
   ]
  },
  {
   "cell_type": "code",
   "execution_count": null,
   "metadata": {},
   "outputs": [
    {
     "name": "stdout",
     "output_type": "stream",
     "text": [
      "BWT and FM index search for pattern ANA in text BANANA$\n",
      "[1, 3]\n"
     ]
    }
   ],
   "source": [
    "print('BWT and FM index search for pattern', p,'in text', t)\n",
    "print(bwt.bwm_search(p, c, occ, suffix_arr))"
   ]
  },
  {
   "cell_type": "markdown",
   "metadata": {},
   "source": [
    "# **2) Global alignment** #"
   ]
  },
  {
   "cell_type": "code",
   "execution_count": 4,
   "metadata": {},
   "outputs": [
    {
     "name": "stdout",
     "output_type": "stream",
     "text": [
      "Matrix for global alignment:\n",
      "[[  0  -7 -14 -21 -28 -35 -42 -49 -56 -63 -70]\n",
      " [ -7   1  -6 -13 -20 -27 -34 -41 -48 -55 -62]\n",
      " [-14  -6   2  -5 -12 -19 -26 -33 -40 -47 -54]\n",
      " [-21 -13  -5   1  -6 -13 -18 -25 -32 -39 -46]\n",
      " [-28 -20 -12  -6   2  -5 -12 -19 -26 -31 -38]\n",
      " [-35 -27 -19 -11  -5   3  -4 -11 -18 -25 -32]\n",
      " [-42 -34 -26 -18 -12  -4   4  -3 -10 -17 -24]\n",
      " [-49 -41 -33 -25 -19 -11  -3   5  -2  -9 -16]\n",
      " [-56 -48 -40 -32 -24 -18 -10  -2   2  -1  -8]\n",
      " [-63 -55 -47 -39 -31 -25 -17  -9  -3  -1   0]]\n",
      "Alignment and edit transcript:\n",
      "TACGTCA_GC\n",
      "|| |||| ||\n",
      "TATGTCATGC\n",
      "MMRMMMMIMM\n",
      "Alignment score: 0\n"
     ]
    }
   ],
   "source": [
    "x='TACGTCAGC'\n",
    "y='TATGTCATGC'\n",
    "D, alignmentScore=globalAlign.globalAlignment(x,y,globalAlign.scoringMatrix)\n",
    "alignment, transcript=globalAlign.traceback(x,y, D, globalAlign.scoringMatrix)\n",
    "print('Matrix for global alignment:')\n",
    "print (D)\n",
    "print('Alignment and edit transcript:')\n",
    "print(alignment)\n",
    "print(transcript)\n",
    "print('Alignment score:',alignmentScore)"
   ]
  },
  {
   "cell_type": "code",
   "execution_count": 5,
   "metadata": {},
   "outputs": [
    {
     "name": "stdout",
     "output_type": "stream",
     "text": [
      "Matrix for global alignment:\n",
      "[[   0   -7  -14 ... -497 -504 -511]\n",
      " [  -7   -3   -6 ... -489 -496 -503]\n",
      " [ -14   -8   -6 ... -481 -488 -495]\n",
      " ...\n",
      " [-518 -510 -502 ...  -89  -92  -95]\n",
      " [-525 -517 -509 ...  -85  -92  -91]\n",
      " [-532 -524 -516 ...  -92  -86  -93]]\n",
      "Alignment and edit transcript:\n",
      "ACACAGTGGGAATATTTCATCATCTGCCTAAGGTTTAAAAGGAAATAACTTTAAGCATGTGTCTAAATAGCAAGTA_\n",
      "  |||   |   | |||  | || | ||||   || |            ||| | | | | ||||  |    | |  \n",
      "_TACACATGTCCTGTTT__TGATGT_CCTATAATTAATTTTCTCTCCGTTTTTAACTTTTATCTATCTTATTAATGT\n",
      "DRMMMRRRMRRRMRMMMDDMRMMRMDMMMMRRRMMRMRRRRRRRRRRRRMMMRMRMRMRMRMMMMRRMRRRRMRMRI\n",
      "Alignment score: -93\n"
     ]
    }
   ],
   "source": [
    "x='ACACAGTGGGAATATTTCATCATCTGCCTAAGGTTTAAAAGGAAATAACTTTAAGCATGTGTCTAAATAGCAAGTA' #alignmentScore=-93\n",
    "y='TACACATGTCCTGTTTTGATGTCCTATAATTAATTTTCTCTCCGTTTTTAACTTTTATCTATCTTATTAATGT'\n",
    "D, alignmentScore=globalAlign.globalAlignment(x,y,globalAlign.scoringMatrix)\n",
    "alignment, transcript=globalAlign.traceback(x,y, D, globalAlign.scoringMatrix)\n",
    "print('Matrix for global alignment:')\n",
    "print (D)\n",
    "print('Alignment and edit transcript:')\n",
    "print(alignment)\n",
    "print(transcript)\n",
    "print('Alignment score:',alignmentScore)"
   ]
  },
  {
   "cell_type": "markdown",
   "metadata": {},
   "source": [
    "## **3) Seed and Extend** ##"
   ]
  },
  {
   "cell_type": "code",
   "execution_count": null,
   "metadata": {},
   "outputs": [
    {
     "ename": "",
     "evalue": "",
     "output_type": "error",
     "traceback": [
      "\u001b[1;31mCanceled future for execute_request message before replies were done"
     ]
    },
    {
     "ename": "",
     "evalue": "",
     "output_type": "error",
     "traceback": [
      "\u001b[1;31mThe Kernel crashed while executing code in the the current cell or a previous cell. Please review the code in the cell(s) to identify a possible cause of the failure. Click <a href='https://aka.ms/vscodeJupyterKernelCrash'>here</a> for more info. View Jupyter <a href='command:jupyter.viewOutput'>log</a> for further details."
     ]
    }
   ],
   "source": [
    "fasta_file = \"./example_human_reference.fasta\"\n",
    "fastq_file = \"./example_human_Illumina.pe_1.fastq\"\n",
    "t = readFASTA(fasta_file)[0]\n",
    "reads = readFASTQ(fastq_file)\n",
    "seed_length = 3\n",
    "margin = 3\n",
    "t+='$' #necessary for test for bwt algorithm\n",
    "c = bwt.c_matrix_insert(t)\n",
    "occ = bwt.occ_matrix_insert(t)\n",
    "suffix_arr = bwt.suffixArray(t)   \n",
    "#firstCols = firstColumnBwm(t)  # HERE WE HAVE FM-INDEX OF OUR FASTA FILE\n",
    "scoringMatrix=globalAlign.scoringMatrix\n",
    "listAlign=seed_extend(t, reads, seed_length, margin, c, occ, suffix_arr, scoringMatrix)\n",
    "print(listAlign)"
   ]
  },
  {
   "cell_type": "markdown",
   "metadata": {},
   "source": [
    "## **4) Match, mismatch, gap combinations in Seed and Extend algorithm** ##"
   ]
  },
  {
   "cell_type": "markdown",
   "metadata": {},
   "source": [
    "### Test 1 ###"
   ]
  },
  {
   "cell_type": "code",
   "execution_count": 4,
   "metadata": {},
   "outputs": [
    {
     "name": "stdout",
     "output_type": "stream",
     "text": [
      "[(0, -3, -7, [(0, -157, 'IIMIMRMMIMRMIRMRRMIRMMIMMMMRRRMMRMRRRRRRRRRRRRMMMRMRMRMRMRMMMMRRMRRRRMRMRR')]), (0, -3, -5, [(0, -143, 'IIMIMRMMIMRMIRMRRMIRMMIMMMMRRRMMRMRRRRRRRRRRRRMMMRMRMRMRMRMMMMRRMRRRRMRMRR')]), (0, -2, -7, [(0, -121, 'IIMIMRMMIMRMIRMRRMIRMMIMMMMRRRMMRMRRRRRRRRRRRRMMMRMRMRMRMRMMMMRRMRRRRMRMRR')]), (0, -2, -5, [(0, -107, 'IIMIMRMMIMRMIRMRRMIRMMIMMMMRRRMMRMRRRRRRRRRRRRMMMRMRMRMRMRMMMMRRMRRRRMRMRR')]), (1, -3, -7, [(0, -126, 'IIMIMRMMIMRMIRMRRMIRMMIMMMMRRRMMRMRRRRRRRRRRRRMMMRMRMRMRMRMMMMRRMRRRRMRMRR')]), (1, -3, -5, [(0, -109, 'DMMMDRRMMMRRRMMMIRRMRMRMMIIMIMMMIIMMRRRRRMIRRMIIMMMRMRMRMRMRMMMMIRRMMRRMMDMRR')]), (1, -2, -7, [(0, -90, 'IIMIMRMMIMRMIRMRRMIRMMIMMMMRRRMMRMRRRRRRRRRRRRMMMRMRMRMRMRMMMMRRMRRRRMRMRR')]), (1, -2, -5, [(0, -76, 'IIMIMRMMIMRMIRMRRMIRMMIMMMMRRRMMRMRRRRRRRRRRRRMMMRMRMRMRMRMMMMRRMRRRRMRMRR')]), (2, -3, -7, [(0, -95, 'IIMIMRMMIMRMIRMRRMIRMMIMMMMRRRMMRMRRRRRRRRRRRRMMMRMRMRMRMRMMMMRRMRRRRMRMRR')]), (2, -3, -5, [(0, -72, 'DMMMDRRMMMRRRMMMIRRMRMRMMIIMIMMMIIMMRRRRRMIRRMIIMMMRMRMRMRMRMMMMIRRMMRRMMDMRR')]), (2, -2, -7, [(0, -59, 'IIMIMRMMIMRMIRMRRMIRMMIMMMMRRRMMRMRRRRRRRRRRRRMMMRMRMRMRMRMMMMRRMRRRRMRMRR')]), (2, -2, -5, [(0, -45, 'IIMIMRMMIMRMIRMRRMIRMMIMMMMRRRMMRMRRRRRRRRRRRRMMMRMRMRMRMRMMMMRRMRRRRMRMRR')])]\n"
     ]
    }
   ],
   "source": [
    "match=[0,1,2]\n",
    "mismatch=[-3, -2]\n",
    "gap=[-7, -5]\n",
    "t='ACACAGTGGGAATATTTCATCATCTGCCTAAGGTTTAAAAGGAAATAACTTTAAGCATGTGTCTAAATAGCAAGTA'\n",
    "reads=['ACACAGTGGGATACACATGTCCTGTTTTGATGTCCTATAATTAATTTTCTCTCCGTTTTTAACTTTTATCTATCTTATTAATGT']\n",
    "t+='$'\n",
    "c = bwt.c_matrix_insert(t)\n",
    "occ = bwt.occ_matrix_insert(t)\n",
    "suffix_arr = bwt.suffixArray(t)  \n",
    "listAlign=[]\n",
    "for i in range(len(match)):\n",
    "    m=match[i]\n",
    "    for j in range(len(mismatch)):\n",
    "        miss=mismatch[j]\n",
    "        for k in range(len(gap)):\n",
    "            g=gap[k]\n",
    "            scoringMatrix=comb.scoringMatrixCombination\n",
    "            listAlign.append((m,miss,g, comb.seed_extend_comb(t, reads, 10, 2, c, occ, suffix_arr, scoringMatrix, m, miss, g)))\n",
    "print(listAlign)\n",
    "            "
   ]
  }
 ],
 "metadata": {
  "interpreter": {
   "hash": "32ef0446b456214fbf2067712e725df2c587c4c825bd3c7b124bbf33660da6b5"
  },
  "kernelspec": {
   "display_name": "Python 3.8.8 ('base')",
   "language": "python",
   "name": "python3"
  },
  "language_info": {
   "codemirror_mode": {
    "name": "ipython",
    "version": 3
   },
   "file_extension": ".py",
   "mimetype": "text/x-python",
   "name": "python",
   "nbconvert_exporter": "python",
   "pygments_lexer": "ipython3",
   "version": "3.8.8"
  },
  "orig_nbformat": 4
 },
 "nbformat": 4,
 "nbformat_minor": 2
}
