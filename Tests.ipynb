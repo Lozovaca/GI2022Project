{
 "cells": [
  {
   "cell_type": "code",
   "execution_count": 24,
   "metadata": {},
   "outputs": [],
   "source": [
    "import GlobalAlignment as globalAlign\n",
    "import Burrows0Wheeler as bwt\n",
    "import SeedExtend as se"
   ]
  },
  {
   "cell_type": "markdown",
   "metadata": {},
   "source": [
    "# **1) Burrows-Wheeler transformation and FM index** #"
   ]
  },
  {
   "cell_type": "code",
   "execution_count": 6,
   "metadata": {},
   "outputs": [
    {
     "name": "stdout",
     "output_type": "stream",
     "text": [
      "C-matrix:\n",
      "{'$': 0, 'A': 1, 'B': 4, 'N': 5}\n",
      "Occ-matrix:\n",
      "{'$': [0, 0, 0, 0, 1, 1, 1], 'A': [1, 1, 1, 1, 1, 2, 3], 'B': [0, 0, 0, 1, 1, 1, 1], 'N': [0, 1, 2, 2, 2, 2, 2]}\n"
     ]
    }
   ],
   "source": [
    "t='BANANA$'\n",
    "p='ANA'\n",
    "suffix_arr = list(bwt.suffixArray(t))  \n",
    "#print(bwtViaSa(t))\n",
    "#print(suffix_arr)\n",
    "print('C-matrix:')\n",
    "c=bwt.c_matrix_insert(t)\n",
    "print(c)  \n",
    "print('Occ-matrix:')\n",
    "occ=bwt.occ_matrix_insert(t)\n",
    "print(occ)"
   ]
  },
  {
   "cell_type": "code",
   "execution_count": 7,
   "metadata": {},
   "outputs": [
    {
     "name": "stdout",
     "output_type": "stream",
     "text": [
      "BWT and FM index search for pattern ANA in text BANANA$\n",
      "[1, 3]\n"
     ]
    }
   ],
   "source": [
    "print('BWT and FM index search for pattern', p,'in text', t)\n",
    "print(bwt.bwm_search(p, c, occ, suffix_arr))"
   ]
  },
  {
   "cell_type": "markdown",
   "metadata": {},
   "source": [
    "# **2) Global alignment** #"
   ]
  },
  {
   "cell_type": "code",
   "execution_count": 9,
   "metadata": {},
   "outputs": [
    {
     "name": "stdout",
     "output_type": "stream",
     "text": [
      "Matrix for global alignment:\n",
      "[[  0  -7 -14 -21 -28 -35 -42 -49 -56 -63 -70]\n",
      " [ -7   1  -6 -13 -20 -27 -34 -41 -48 -55 -62]\n",
      " [-14  -6   2  -5 -12 -19 -26 -33 -40 -47 -54]\n",
      " [-21 -13  -5   1  -6 -13 -18 -25 -32 -39 -46]\n",
      " [-28 -20 -12  -6   2  -5 -12 -19 -26 -31 -38]\n",
      " [-35 -27 -19 -11  -5   3  -4 -11 -18 -25 -32]\n",
      " [-42 -34 -26 -18 -12  -4   4  -3 -10 -17 -24]\n",
      " [-49 -41 -33 -25 -19 -11  -3   5  -2  -9 -16]\n",
      " [-56 -48 -40 -32 -24 -18 -10  -2   2  -1  -8]\n",
      " [-63 -55 -47 -39 -31 -25 -17  -9  -3  -1   0]]\n",
      "Alignment and edit transcript:\n",
      "TACGTCA_GC\n",
      "|| |||| ||\n",
      "TATGTCATGC\n",
      "MMRMMMMIMM\n",
      "Alignment score: 0\n"
     ]
    }
   ],
   "source": [
    "x='TACGTCAGC'\n",
    "y='TATGTCATGC'\n",
    "D, alignmentScore=globalAlign.globalAlignment(x,y,globalAlign.scoringMatrix)\n",
    "alignment, transcript=globalAlign.traceback(x,y, D, globalAlign.scoringMatrix)\n",
    "print('Matrix for global alignment:')\n",
    "print (D)\n",
    "print('Alignment and edit transcript:')\n",
    "print(alignment)\n",
    "print(transcript)\n",
    "print('Alignment score:',alignmentScore)"
   ]
  },
  {
   "cell_type": "code",
   "execution_count": 10,
   "metadata": {},
   "outputs": [
    {
     "name": "stdout",
     "output_type": "stream",
     "text": [
      "Matrix for global alignment:\n",
      "[[   0   -7  -14 ... -497 -504 -511]\n",
      " [  -7   -3   -6 ... -489 -496 -503]\n",
      " [ -14   -8   -6 ... -481 -488 -495]\n",
      " ...\n",
      " [-518 -510 -502 ...  -89  -92  -95]\n",
      " [-525 -517 -509 ...  -85  -92  -91]\n",
      " [-532 -524 -516 ...  -92  -86  -93]]\n",
      "Alignment and edit transcript:\n",
      "ACACAGTGGGAATATTTCATCATCTGCCTAAGGTTTAAAAGGAAATAACTTTAAGCATGTGTCTAAATAGCAAGTA_\n",
      "  |||   |   | |||  | || | ||||   || |            ||| | | | | ||||  |    | |  \n",
      "_TACACATGTCCTGTTT__TGATGT_CCTATAATTAATTTTCTCTCCGTTTTTAACTTTTATCTATCTTATTAATGT\n",
      "DRMMMRRRMRRRMRMMMDDMRMMRMDMMMMRRRMMRMRRRRRRRRRRRRMMMRMRMRMRMRMMMMRRMRRRRMRMRI\n",
      "Alignment score: -93\n"
     ]
    }
   ],
   "source": [
    "x='ACACAGTGGGAATATTTCATCATCTGCCTAAGGTTTAAAAGGAAATAACTTTAAGCATGTGTCTAAATAGCAAGTA' #alignmentScore=-93\n",
    "y='TACACATGTCCTGTTTTGATGTCCTATAATTAATTTTCTCTCCGTTTTTAACTTTTATCTATCTTATTAATGT'\n",
    "D, alignmentScore=globalAlign.globalAlignment(x,y,globalAlign.scoringMatrix)\n",
    "alignment, transcript=globalAlign.traceback(x,y, D, globalAlign.scoringMatrix)\n",
    "print('Matrix for global alignment:')\n",
    "print (D)\n",
    "print('Alignment and edit transcript:')\n",
    "print(alignment)\n",
    "print(transcript)\n",
    "print('Alignment score:',alignmentScore)"
   ]
  },
  {
   "cell_type": "markdown",
   "metadata": {},
   "source": [
    "## **3) Seed and Extend** ##"
   ]
  },
  {
   "cell_type": "code",
   "execution_count": 25,
   "metadata": {},
   "outputs": [
    {
     "name": "stdout",
     "output_type": "stream",
     "text": [
      "[(31, -93, 'DRMMMRRRMRRRMRMMMDDMRMMRMDMMMMRRRMMRMRRRRRRRRRRRRMMMRMRMRMRMRMMMMRRMRRRRMRMRI'), (34, -92, 'RMRRRRRRRRRMRMRRMRMMRMDMMMMRRRMMRMRRRRRRRRRRRRMMMRMRMRMRMRMMMMRRMRRRRMRMDRMD'), (36, -94, 'DMRRRRMMRMRRRRMRRMIRMMIMMMMRRRMMRMRRRRRRRRRRRRMMMRMRMRMRMRMMMDDMMDRRRMRMMMMMDM'), (0, -108, 'RRMMRMRRRRRRRRMRRMDMRMMRMRRRRRRRRMDRRMRRRRMRMRRRRMRRRMRMMRRMRRMMDRRRRRMRMMRR'), (45, -114, 'RRMRRRMRMRRRRRMRRRRMMMRRMRRMRRRRMRMMRRMRRMMDRRMRRRRRRMRMRRRRMRRRRRRRRMMMRMDD'), (78, -98, 'IMIIMRRMRRRMMRRRMMMMRRRMMRMRRMRRMDMRMRRMRMIRRRMMRRRRRMMRRRMRRRMRRRMMRRMRRR'), (100, -175, 'IIIMMMIIIRRRMMMIMIIIMMMMMRRMRIMMMIRMMRIMIRIIIRMMMIIMMRRIMIMMIIIRMMMIRMRRR'), (3, -97, 'DRRRMDMMMRMRRRRRRMMRMIMRRMRRRRMRRRRRRRRRRMRRMMRMMRMRRMMDMDMMRMRRRRMRRMMMRMMMR'), (15, -80, 'MRRRMDMMRRMRMMRMMRRRMRMRMRRRRRRMRRMRRMRMMMMRMRMDDMMRRMRRRRMRRRMRMRRRRRRMMMRR'), (25, -95, 'DDRRMDMMRRMMDMMMMMRMMRRRRMRRMRRMMMMRMRRMRRRRRRRRRMRMMRRMRRMMRRMRMRIMRRRMRMMMM'), (91, -127, 'RMIIMMRMRRRMRMMRMIRMIIMMMMIIIIMRIMRIMMMRMRMMRIMRIIRMRIMMMRRMMMRRMMMIMRMRR'), (93, -135, 'RMIMRRMMMRRRRRMMMIMIIMMIMMRMIRRMRRMMIIIMIMIMRIMMMRMMIIIIMIRMMMRRMMMIMRMRR'), (111, -235, 'IMIIIMMMIIIMIIMRRMMMIMMIRMIIIMMRMMMMIIIMIMIIIIIIIIMIMMIIMIIIIRIIMMMIMRMRR'), (9, -113, 'DMRRRMRMDRRRMRRMRMRMRDRRMMMRMRMRRRRMRRRRRMRRRMMDRMRMMRRRRRMMRRRRRRRMRRRMRRMRI'), (63, -94, 'DDDMDRMMRMDMMMRRMRMRMMRRRMRRRRRMRIRRRMMRRRRMRRRRMMRRMRMIRMRRMRMRMMMMRRRRMRRRRR'), (72, -98, 'RRMMMRMRMRMDRRRMDRRRMMMMRMRRRRRRMRMRRMMRMMRRRRRRRMRRMRMRRMRRMMMRRRRMMRMRRRMD'), (86, -113, 'RIIMMMIIMMMMRRMMRMRMRMRRRRMMMRRRMMRMRRRRRRMMRRRMMMRRMIMRIIIIMIMMMRMRIMRRR'), (105, -199, 'IIIIMIMMMMMIIMIIIIMIMIIMIIIMIRMMIMMRIIMMMRMMMIIMMMRRMIMRIIIIMIMMMRMRIMRRR'), (28, -108, 'RRRRRRMRRRMRMMMMRRRMDRMMRMRRRRRRRMRRRMMRRRRRRRRRMDRRMRRRRRMRRMDRRRRMMMRRRRRR'), (118, -287, 'IIIIIIMIIIMIMIMMIIIMRMMRMIMMMMRRMIRMMMMIMMMIIIMIIIIIIIIMIIIIIIIIIIIIMIIIR'), (40, -78, 'RRMRMMMMMMRRMRMRRDRRRRRRMMRMMMRMMMRRRRRRRRRRRRRMMRRRMRRMRRRRRMMMDMRRMRMMMMDR'), (142, -467, 'IIIIIIIIIIIIIIIIIIIIIIIIIIIIIIIIIIIIIIIIIIIIIIIIIIIIIIIIIIMIMIIIIMMMIIIIR'), (64, -96, 'RRRRMRMMRRMRMRMRRMRRMRRMRMRRRMRDRMMMDRMRRMDRRRRMRRMRMRRMMRRMRMRMRRRRMRRRRRRM'), (73, -92, 'MMRRMRRRRRMRRRMRRMMRRMRMRDRMDMMRRRMMRMIRRMRRMRRRMMRRRMRRRRRRMMRMRMRMMMMRMDMR'), (37, -80, 'RRRRMMDMRRMRRRRRMRMMRRRMRRRRRRMRRRRRMMMRRMMRRMRRRMMRMMMRRMRRMMMDRMRMMDRRRRMR'), (137, -427, 'IIIIIIIIIIIIIIIIIIIIIIIIIIIIIIIIIIIIIIIIIIMIMMMIIIIMIMMIIIIIIIIIIMIMIIMIR'), (7, -100, 'RMRRRRRMMMRRRRMMRMMRRRRMMRDRMDMRRMMMRRRRRRRRRRMRMRRRRMMMMRRMDRRRRRRRRMRRMMMR'), (8, -105, 'IMRRRRRMMMRRRRMMRMMRRRRMMRDRMDMRRMMMRRDRRRRRMMMRMDRRRMMRRRRRMRRRMRRRRRRRRRMMM'), (70, -97, 'RMRMMIMIMMMRMMMRMRRRMRMRRRMMIMMRMRMRMRRRRRRMMMMMMMRRRMRDDMRRMMDDRRRMDRMMRRRRRRD'), (71, -104, 'RMRMMRMRRRRMRRRRMMMRDMMMMMRMMDRMMMDMMRMRRRRRRMRRRRMRRRRRRRRMRMMRRRMRRRRRMRMR'), (76, -103, 'IIMMMMRMMMMIRRRMRMMRRRRMMMRRRMMMDMMRMRRRRRRMRRRRMDRRRRRRRRMMMRRRMRRRRRRRMRR'), (98, -165, 'IIMMRMMIIMRIIIMRMMMIIIMIIMMIMIMMMRMMRMIRRMIMRMMMRMRRRRMMIIMMMIIRRMIRMMIIR'), (132, -387, 'IIIIIIIIIIIIIIIIIIIIIIIIIIMIMIIIIIMIIMIIMMIIIMMIMIIIIMMMIIIIMIIIIIIIMMIIR'), (81, -107, 'MMIRMRRMRRRRRRRMRRRMMRRRRMMIMRRRRRRMRIMMMRRRMRMIMRMMIMMMIRRRRMRMRRRRRRRRR'), (13, -101, 'DRRRRRRMRMRMMRRMMRRRRMMDRRRMMRMRRMRRMRRMMRRRRRMRMRRMMMDRMMRRRRMMDMRMMMMRRRRMI'), (48, -93, 'MMRMMDRRMRRMRRRRRMRRRRMRRMRMMDRMRMRMMRRMMRRRRRMRMIMMRRMMMRMDRMRMRMMRRMMRDRRMR'), (67, -91, 'RMRRRRMRRMRRRMIRMRRRMMRRRMRRMDRRMMRRMMRMMMDRRMMRMRMRRRRMDRMMRMRRMRMMRMMRMMDRM'), (83, -93, 'RMRMIMRMMRMRMRMRMRRRRMRRMIMMRRRMIRMRMRRIRRMMMIIRIMRMRMMRMMRMIRRMMRRMRRMRR'), (113, -257, 'IIIRIIMIIIIMIIMIIMIIIIIMRMMMMIMMIIIIIIRIIIIMMRMIMIMMMMRMIIMIMRIIIIRMRRMRR'), (114, -263, 'IIIIIIMIIIIMIIMIIMIIIIIMRMMMMIMMIIIIIIRIIIIMMRMIMIMMMMRMIIMIMRIIIIRMRRMRR'), (11, -101, 'RRDRRRRMRMRRRRMMDRMMRRRRRMRMRMRMMRMIMRRMRRRMMRRRMRRRRRMMMRMMRMMRRMMRRDMMRRRMD'), (139, -443, 'IIIIIIIIIIIIIIIIIIIIIIIIIIIIIIIIIIIIMIIMIIIIIIIIIIIIIIIIIIIMMMIIIIMIMIMIR')]\n"
     ]
    }
   ],
   "source": [
    "print(se.listAlign)"
   ]
  }
 ],
 "metadata": {
  "interpreter": {
   "hash": "44aa9334d14e77acd0ab58a32227ca6642aa33f62a1f1c24b03364be7e1b2260"
  },
  "kernelspec": {
   "display_name": "Python 3.8.8 ('base')",
   "language": "python",
   "name": "python3"
  },
  "language_info": {
   "codemirror_mode": {
    "name": "ipython",
    "version": 3
   },
   "file_extension": ".py",
   "mimetype": "text/x-python",
   "name": "python",
   "nbconvert_exporter": "python",
   "pygments_lexer": "ipython3",
   "version": "3.8.8"
  },
  "orig_nbformat": 4
 },
 "nbformat": 4,
 "nbformat_minor": 2
}
