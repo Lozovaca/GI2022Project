{
 "cells": [
  {
   "cell_type": "code",
   "execution_count": 10,
   "metadata": {},
   "outputs": [],
   "source": [
    "import GlobalAlignment as globalAlign\n",
    "import Burrows0Wheeler as bwt"
   ]
  },
  {
   "cell_type": "markdown",
   "metadata": {},
   "source": [
    "# **1) Burrows-Wheeler transformation and FM index** #"
   ]
  },
  {
   "cell_type": "code",
   "execution_count": 11,
   "metadata": {},
   "outputs": [
    {
     "name": "stdout",
     "output_type": "stream",
     "text": [
      "C-matrix:\n",
      "{'$': 0, 'A': 1, 'B': 4, 'N': 5}\n",
      "Occ-matrix:\n",
      "{'$': [0, 0, 0, 0, 1, 1, 1], 'A': [1, 1, 1, 1, 1, 2, 3], 'B': [0, 0, 0, 1, 1, 1, 1], 'N': [0, 1, 2, 2, 2, 2, 2]}\n"
     ]
    }
   ],
   "source": [
    "t='BANANA$'\n",
    "p='ANA'\n",
    "#print(bwtViaSa(t))\n",
    "#print(list(suffixArray(t)))\n",
    "print('C-matrix:')\n",
    "print(bwt.c_matrix_insert(t))  \n",
    "\n",
    "print('Occ-matrix:')\n",
    "print(bwt.occ_matrix_insert(t))"
   ]
  },
  {
   "cell_type": "code",
   "execution_count": 12,
   "metadata": {},
   "outputs": [
    {
     "name": "stdout",
     "output_type": "stream",
     "text": [
      "BWT and FM index search for pattern ANA in text BANANA$\n",
      "[3, 4]\n"
     ]
    }
   ],
   "source": [
    "print('BWT and FM index search for pattern', p,'in text', t)\n",
    "print(bwt.bwm_search(t,p))"
   ]
  },
  {
   "cell_type": "markdown",
   "metadata": {},
   "source": [
    "# **2) Global alignment** #"
   ]
  },
  {
   "cell_type": "code",
   "execution_count": 13,
   "metadata": {},
   "outputs": [
    {
     "name": "stdout",
     "output_type": "stream",
     "text": [
      "Matrix for global alignment:\n",
      "[[  0  -7 -14 -21 -28 -35 -42 -49 -56 -63 -70]\n",
      " [ -7   1  -6 -13 -20 -27 -34 -41 -48 -55 -62]\n",
      " [-14  -6   2  -5 -12 -19 -26 -33 -40 -47 -54]\n",
      " [-21 -13  -5   1  -6 -13 -18 -25 -32 -39 -46]\n",
      " [-28 -20 -12  -6   2  -5 -12 -19 -26 -31 -38]\n",
      " [-35 -27 -19 -11  -5   3  -4 -11 -18 -25 -32]\n",
      " [-42 -34 -26 -18 -12  -4   4  -3 -10 -17 -24]\n",
      " [-49 -41 -33 -25 -19 -11  -3   5  -2  -9 -16]\n",
      " [-56 -48 -40 -32 -24 -18 -10  -2   2  -1  -8]\n",
      " [-63 -55 -47 -39 -31 -25 -17  -9  -3  -1   0]]\n",
      "Alignment and edit transcript:\n",
      "TACGTCA_GC\n",
      "|| |||| ||\n",
      "TATGTCATGC\n",
      "MMRMMMMIMM\n",
      "Alignment score: 0\n"
     ]
    }
   ],
   "source": [
    "print('Matrix for global alignment:')\n",
    "print (globalAlign.D)\n",
    "print('Alignment and edit transcript:')\n",
    "print(globalAlign.alignment)\n",
    "print(globalAlign.transcript)\n",
    "print('Alignment score:',globalAlign.alignmentScore)"
   ]
  }
 ],
 "metadata": {
  "interpreter": {
   "hash": "44aa9334d14e77acd0ab58a32227ca6642aa33f62a1f1c24b03364be7e1b2260"
  },
  "kernelspec": {
   "display_name": "Python 3.8.8 ('base')",
   "language": "python",
   "name": "python3"
  },
  "language_info": {
   "codemirror_mode": {
    "name": "ipython",
    "version": 3
   },
   "file_extension": ".py",
   "mimetype": "text/x-python",
   "name": "python",
   "nbconvert_exporter": "python",
   "pygments_lexer": "ipython3",
   "version": "3.8.8"
  },
  "orig_nbformat": 4
 },
 "nbformat": 4,
 "nbformat_minor": 2
}
